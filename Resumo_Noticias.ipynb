{
  "nbformat": 4,
  "nbformat_minor": 0,
  "metadata": {
    "colab": {
      "provenance": [],
      "toc_visible": true,
      "authorship_tag": "ABX9TyMp5t6yzTXPX16CJkDdzMd6",
      "include_colab_link": true
    },
    "kernelspec": {
      "name": "python3",
      "display_name": "Python 3"
    },
    "language_info": {
      "name": "python"
    }
  },
  "cells": [
    {
      "cell_type": "markdown",
      "metadata": {
        "id": "view-in-github",
        "colab_type": "text"
      },
      "source": [
        "<a href=\"https://colab.research.google.com/github/pstorrer/Resumo_Noticias/blob/main/Resumo_Noticias.ipynb\" target=\"_parent\"><img src=\"https://colab.research.google.com/assets/colab-badge.svg\" alt=\"Open In Colab\"/></a>"
      ]
    },
    {
      "cell_type": "markdown",
      "source": [
        "# Instalar e Importar dependências\n",
        "\n"
      ],
      "metadata": {
        "id": "I6MPc_vUSs67"
      }
    },
    {
      "cell_type": "code",
      "source": [
        "!pip install -U -q google-generativeai #gemini\n",
        "!pip install feedparser #Parser para ler RSS Feeds.\n",
        "import google.generativeai as genai #import gemini.\n",
        "import feedparser #import Parser.\n",
        "from google.colab import userdata as ud #import userdata para ler a akpi key do colab.\n",
        "import pandas as pd #para criar o dataframe  com os modelos rss e salvar no histórico do model"
      ],
      "metadata": {
        "colab": {
          "base_uri": "https://localhost:8080/"
        },
        "id": "nfyXsV8-TN1m",
        "outputId": "620048e9-768c-4a8a-8327-d2a77bff8d8d"
      },
      "execution_count": 7,
      "outputs": [
        {
          "output_type": "stream",
          "name": "stdout",
          "text": [
            "Requirement already satisfied: feedparser in /usr/local/lib/python3.10/dist-packages (6.0.11)\n",
            "Requirement already satisfied: sgmllib3k in /usr/local/lib/python3.10/dist-packages (from feedparser) (1.0.0)\n"
          ]
        }
      ]
    },
    {
      "cell_type": "markdown",
      "source": [
        "# Carregar Parâmetros"
      ],
      "metadata": {
        "id": "ilq6T2TITQo4"
      }
    },
    {
      "cell_type": "code",
      "source": [
        "GOOGLE_API_KEY = ud.get('API_GENAI')"
      ],
      "metadata": {
        "id": "lgusSua9TWMa"
      },
      "execution_count": 4,
      "outputs": []
    },
    {
      "cell_type": "markdown",
      "source": [
        "# Configurações"
      ],
      "metadata": {
        "id": "vxGCmbb2Uhk-"
      }
    },
    {
      "cell_type": "code",
      "source": [
        "genai.configure(api_key=GOOGLE_API_KEY)\n",
        "listRSS = [] #global que irá salvar toda lista de RSS de resultados"
      ],
      "metadata": {
        "id": "Fm16Qf3dUtGc"
      },
      "execution_count": 5,
      "outputs": []
    },
    {
      "cell_type": "markdown",
      "source": [
        "# Funções"
      ],
      "metadata": {
        "id": "CAslrDmp15Ym"
      }
    },
    {
      "cell_type": "markdown",
      "source": [
        "array_to_df função que irá ser utilizada para ler o list com todos os RSS pesquisados e adicionar no formato para importar no histórico."
      ],
      "metadata": {
        "id": "t5PFi7SX3I2V"
      }
    },
    {
      "cell_type": "code",
      "source": [
        "def array_to_df(array_of_strings):\n",
        "  \"\"\"\n",
        "  Converte um array de strings em um DataFrame no formato adequado para o Model API.\n",
        "  \"\"\"\n",
        "  # Criar uma lista de dicionários, assumindo que o usuário é o autor de todas as mensagens\n",
        "  data = [{\"role\": \"user\", \"content\": message} for message in array_of_strings]\n",
        "\n",
        "  # Criar o DataFrame\n",
        "  df = pd.DataFrame(data)\n",
        "\n",
        "  return df"
      ],
      "metadata": {
        "id": "tvBBBVIv2vAu"
      },
      "execution_count": null,
      "outputs": []
    },
    {
      "cell_type": "markdown",
      "source": [
        "scrap_google_news_feed função que recebe um termo de pesquisa e captura o RSS resultante do google News e salva no listRSS"
      ],
      "metadata": {
        "id": "fz7y1eHw3nvH"
      }
    },
    {
      "cell_type": "code",
      "source": [
        "def scrape_google_news_feed(busca):\n",
        "        rss_url = f'https://news.google.com/rss/search?q={busca}&hl=pt-BR&gl=BR&ceid=BR:pt-419'\n",
        "        feed = feedparser.parse(rss_url)\n",
        "        if feed.entries:\n",
        "            for entry in feed.entries:\n",
        "              listRSS.append(entry)"
      ],
      "metadata": {
        "id": "kVwb-5W44Y9d"
      },
      "execution_count": null,
      "outputs": []
    },
    {
      "cell_type": "markdown",
      "source": [
        "# Modelos"
      ],
      "metadata": {
        "id": "paJm84OV95D_"
      }
    },
    {
      "cell_type": "markdown",
      "source": [
        "Modelo que gera os termos de pesquisa."
      ],
      "metadata": {
        "id": "CyPCMZhSCvKh"
      }
    },
    {
      "cell_type": "code",
      "source": [
        "system_instruction = \"Gerar um JSON de duas partes. A primeira parte um array de strings em forma de tópicos de pesquisa de notícias, a segunda parte o tempo máximo no exemplo última hora, última semana, últimos 30 dias. Caso o tempo não seja informado no texto do usuário, suponha 1 semana. Caso o texto do usuário seja muito genérico, por exemplo tudo da última hora, Liste estes 10 principais tópicos Política,Economia,Tecnologia,Saúde,Meio Ambiente,Educação,Cultura e Entretenimento,Esportes,Crime e Justiça,Comunidade Local para os arrays e '1 hora' para o tempo máximo, se tiver algum filtro de localidade incluir nos termos. A resposta gerada só pode ser tópicos de pesquisa, caso o texto do usuário não possa ser convertido em tópicos de pesquisa retorne o seguinte JSON: {\\\"-1\\\", \\\"O texto não gerou termos para pesquisa de notícias, reformule\\\"}\\n\"\n",
        "\n",
        "modelo_termos = genai.GenerativeModel(model_name=\"gemini-1.5-pro-latest\", system_instruction=system_instruction)"
      ],
      "metadata": {
        "id": "YGrt88f1BKsf"
      },
      "execution_count": 9,
      "outputs": []
    },
    {
      "cell_type": "markdown",
      "source": [
        "Modelo que resume as noticias de acordo com cada termo de pesquisa."
      ],
      "metadata": {
        "id": "InBzy5JZC_JU"
      }
    },
    {
      "cell_type": "markdown",
      "source": [
        "# Nova seção"
      ],
      "metadata": {
        "id": "-l4DEoiGCrvX"
      }
    }
  ]
}